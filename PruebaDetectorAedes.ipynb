{
 "cells": [
  {
   "cell_type": "markdown",
   "id": "8871f124",
   "metadata": {},
   "source": [
    "# Prueba del modelo detector de huevos de Aedes\n",
    "Este notebook permite probar el modelo de detección de huevos de mosquito Aedes en imágenes. Se importarán las librerías necesarias y se ejecutará el modelo sobre una imagen de ejemplo."
   ]
  },
  {
   "cell_type": "code",
   "execution_count": null,
   "id": "9c126f6d",
   "metadata": {},
   "outputs": [],
   "source": [
    "# Importar librerías necesarias para la prueba\n",
    "import numpy as np\n",
    "import matplotlib.pyplot as plt\n",
    "import cv2\n",
    "import sys\n",
    "sys.path.append('.')\n",
    "from detector_aedes.detector_aedes import AedesDetector"
   ]
  },
  {
   "cell_type": "code",
   "execution_count": null,
   "id": "785f1f32",
   "metadata": {},
   "outputs": [],
   "source": [
    "# Ejecutar el detector sobre una imagen de ejemplo\n",
    "image_path = 'data/input/Sample-of-Aedes-eggs-images.png'\n",
    "detector = AedesDetector(input_path=image_path, output_path='data/output/output.csv')\n",
    "detector.process()\n",
    "\n",
    "# Leer y mostrar la imagen de entrada\n",
    "img = cv2.imread(image_path)\n",
    "plt.imshow(cv2.cvtColor(img, cv2.COLOR_BGR2RGB))\n",
    "plt.title('Imagen de entrada')\n",
    "plt.axis('off')\n",
    "plt.show()"
   ]
  },
  {
   "cell_type": "code",
   "execution_count": null,
   "id": "8b92acb5",
   "metadata": {},
   "outputs": [],
   "source": [
    "# Visualizar el resultado del archivo CSV generado\n",
    "import pandas as pd\n",
    "output_df = pd.read_csv('data/output/output.csv')\n",
    "output_df"
   ]
  },
  {
   "cell_type": "markdown",
   "id": "d35b0ec3",
   "metadata": {},
   "source": [
    "## Interpretación de resultados y pruebas adicionales\n",
    "El archivo CSV muestra el estado de detección del bajalenguas y los huevos de Aedes en la imagen analizada. Puedes cambiar la ruta de la imagen en la celda anterior para probar con otras imágenes."
   ]
  }
 ],
 "metadata": {
  "language_info": {
   "name": "python"
  }
 },
 "nbformat": 4,
 "nbformat_minor": 5
}
